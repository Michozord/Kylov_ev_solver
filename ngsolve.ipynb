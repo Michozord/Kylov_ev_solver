{
 "cells": [
  {
   "cell_type": "code",
   "execution_count": 1,
   "id": "678a30a7-f375-45bc-9a62-7f2f566fc42b",
   "metadata": {},
   "outputs": [],
   "source": [
    "from ngsolve import *\n",
    "from ngsolve.webgui import Draw\n",
    "import netgen.geom2d as geom2d\n",
    "\n",
    "from scipy.sparse import csr_matrix"
   ]
  },
  {
   "cell_type": "code",
   "execution_count": 5,
   "id": "97f4ae64-5d8f-4307-bb69-00c724be6a6b",
   "metadata": {},
   "outputs": [
    {
     "data": {
      "application/vnd.jupyter.widget-view+json": {
       "model_id": "f8ca7436c71748d3a81c577ba0183f6d",
       "version_major": 2,
       "version_minor": 0
      },
      "text/plain": [
       "WebGuiWidget(layout=Layout(height='50vh', width='100%'), value={'gui_settings': {}, 'ngsolve_version': '6.2.24…"
      ]
     },
     "metadata": {},
     "output_type": "display_data"
    },
    {
     "data": {
      "text/plain": [
       "BaseWebGuiScene"
      ]
     },
     "execution_count": 5,
     "metadata": {},
     "output_type": "execute_result"
    }
   ],
   "source": [
    "mesh = Mesh(unit_square.GenerateMesh(maxh=0.1))\n",
    "Draw (mesh)"
   ]
  },
  {
   "cell_type": "code",
   "execution_count": 6,
   "id": "a1d25fea-d97f-4fc4-bffd-9e8ea4ad18dc",
   "metadata": {},
   "outputs": [
    {
     "data": {
      "application/vnd.jupyter.widget-view+json": {
       "model_id": "1bfa95276c4e46efb943efa77f72fedd",
       "version_major": 2,
       "version_minor": 0
      },
      "text/plain": [
       "WebGuiWidget(layout=Layout(height='50vh', width='100%'), value={'gui_settings': {}, 'ngsolve_version': '6.2.24…"
      ]
     },
     "metadata": {},
     "output_type": "display_data"
    }
   ],
   "source": [
    "fes = H1(mesh, order=1)\n",
    "gf = GridFunction(fes, multidim=mesh.nv)\n",
    "for i in range (mesh.nv):\n",
    "    gf.vecs[i][:] = 0\n",
    "    gf.vecs[i][i] = 1\n",
    "scene = Draw (gf, mesh, deformation=True, animate=True);"
   ]
  },
  {
   "cell_type": "code",
   "execution_count": 7,
   "id": "c422291d-ce0d-46d4-820f-c2c949a67d0d",
   "metadata": {},
   "outputs": [
    {
     "name": "stdout",
     "output_type": "stream",
     "text": [
      "[[ 1.          0.          0.         ...  0.          0.\n",
      "   0.        ]\n",
      " [ 0.          0.85242787  0.         ...  0.          0.\n",
      "   0.        ]\n",
      " [ 0.          0.          1.         ...  0.          0.\n",
      "   0.        ]\n",
      " ...\n",
      " [ 0.          0.          0.         ...  3.48067965 -0.55199037\n",
      "  -0.67099456]\n",
      " [ 0.          0.          0.         ... -0.55199037  3.51919795\n",
      "  -0.55887576]\n",
      " [ 0.          0.          0.         ... -0.67099456 -0.55887576\n",
      "   3.53053623]]\n"
     ]
    }
   ],
   "source": [
    "u, v = fes.TnT()  # symbolic objects for trial and test functions in H1\n",
    "\n",
    "s = BilinearForm(fes)\n",
    "s += grad(u)*grad(v)*dx\n",
    "s.Assemble()\n",
    "S = csr_matrix(s.mat.CSR()).toarray()\n",
    "print(S)"
   ]
  },
  {
   "cell_type": "code",
   "execution_count": 8,
   "id": "a1d83148-1c35-4d55-8a19-40eea95df033",
   "metadata": {},
   "outputs": [
    {
     "name": "stdout",
     "output_type": "stream",
     "text": [
      "[[0.00083333 0.         0.         ... 0.         0.         0.        ]\n",
      " [0.         0.00134236 0.         ... 0.         0.         0.        ]\n",
      " [0.         0.         0.00083333 ... 0.         0.         0.        ]\n",
      " ...\n",
      " [0.         0.         0.         ... 0.00397972 0.00063112 0.00071802]\n",
      " [0.         0.         0.         ... 0.00063112 0.00348466 0.00067778]\n",
      " [0.         0.         0.         ... 0.00071802 0.00067778 0.00489479]]\n"
     ]
    }
   ],
   "source": [
    "m = BilinearForm(fes)\n",
    "m += u*v*dx\n",
    "m.Assemble()\n",
    "M = csr_matrix(m.mat.CSR()).toarray()\n",
    "print(M)"
   ]
  },
  {
   "cell_type": "code",
   "execution_count": null,
   "id": "fe4acdea-f6f1-4b11-9ccd-a9601b252d8f",
   "metadata": {},
   "outputs": [],
   "source": []
  }
 ],
 "metadata": {
  "kernelspec": {
   "display_name": "Python 3 (ipykernel)",
   "language": "python",
   "name": "python3"
  },
  "language_info": {
   "codemirror_mode": {
    "name": "ipython",
    "version": 3
   },
   "file_extension": ".py",
   "mimetype": "text/x-python",
   "name": "python",
   "nbconvert_exporter": "python",
   "pygments_lexer": "ipython3",
   "version": "3.12.1"
  }
 },
 "nbformat": 4,
 "nbformat_minor": 5
}
