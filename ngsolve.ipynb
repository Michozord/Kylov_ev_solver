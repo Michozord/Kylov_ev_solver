{
 "cells": [
  {
   "cell_type": "code",
   "execution_count": 8,
   "id": "678a30a7-f375-45bc-9a62-7f2f566fc42b",
   "metadata": {},
   "outputs": [],
   "source": [
    "from ngsolve import *\n",
    "from ngsolve.webgui import Draw\n",
    "from netgen.geom2d import SplineGeometry\n",
    "import numpy as np\n",
    "from scipy.sparse import csr_matrix"
   ]
  },
  {
   "cell_type": "code",
   "execution_count": 30,
   "id": "97f4ae64-5d8f-4307-bb69-00c724be6a6b",
   "metadata": {},
   "outputs": [
    {
     "data": {
      "application/vnd.jupyter.widget-view+json": {
       "model_id": "ffafc0eb5ab440c19068b375c897f997",
       "version_major": 2,
       "version_minor": 0
      },
      "text/plain": [
       "WebGuiWidget(layout=Layout(height='50vh', width='100%'), value={'gui_settings': {}, 'ngsolve_version': '6.2.24…"
      ]
     },
     "metadata": {},
     "output_type": "display_data"
    },
    {
     "data": {
      "text/plain": [
       "BaseWebGuiScene"
      ]
     },
     "execution_count": 30,
     "metadata": {},
     "output_type": "execute_result"
    }
   ],
   "source": [
    "geo = SplineGeometry()\n",
    "geo.AddRectangle((0,0),(np.pi,1))\n",
    "mesh = Mesh(geo.GenerateMesh(maxh=0.05))\n",
    "Draw (mesh)"
   ]
  },
  {
   "cell_type": "code",
   "execution_count": 31,
   "id": "a1d25fea-d97f-4fc4-bffd-9e8ea4ad18dc",
   "metadata": {},
   "outputs": [
    {
     "data": {
      "application/vnd.jupyter.widget-view+json": {
       "model_id": "c4b0887aaa2a4a0bb54e98d2511de51d",
       "version_major": 2,
       "version_minor": 0
      },
      "text/plain": [
       "WebGuiWidget(layout=Layout(height='50vh', width='100%'), value={'gui_settings': {}, 'ngsolve_version': '6.2.24…"
      ]
     },
     "metadata": {},
     "output_type": "display_data"
    },
    {
     "name": "stdout",
     "output_type": "stream",
     "text": [
      "1546\n"
     ]
    }
   ],
   "source": [
    "fes = H1(mesh, order=1)\n",
    "gf = GridFunction(fes, multidim=mesh.nv)\n",
    "for i in range (mesh.nv):\n",
    "    gf.vecs[i][:] = 0\n",
    "    gf.vecs[i][i] = 1\n",
    "scene = Draw (gf, mesh, deformation=True, animate=True);\n",
    "print(fes.ndof)"
   ]
  },
  {
   "cell_type": "code",
   "execution_count": 20,
   "id": "c422291d-ce0d-46d4-820f-c2c949a67d0d",
   "metadata": {},
   "outputs": [
    {
     "name": "stdout",
     "output_type": "stream",
     "text": [
      "[[1.00005102 0.         0.         ... 0.         0.         0.        ]\n",
      " [0.         0.84609181 0.         ... 0.         0.         0.        ]\n",
      " [0.         0.         1.00005102 ... 0.         0.         0.        ]\n",
      " ...\n",
      " [0.         0.         0.         ... 4.46825257 0.         0.        ]\n",
      " [0.         0.         0.         ... 0.         4.54110359 0.        ]\n",
      " [0.         0.         0.         ... 0.         0.         4.50245628]]\n"
     ]
    }
   ],
   "source": [
    "u, v = fes.TnT()  # symbolic objects for trial and test functions in H1\n",
    "\n",
    "s = BilinearForm(fes)\n",
    "s += grad(u)*grad(v)*dx\n",
    "s.Assemble()\n",
    "S = csr_matrix(s.mat.CSR()).toarray()\n",
    "print(S)"
   ]
  },
  {
   "cell_type": "code",
   "execution_count": 21,
   "id": "a1d83148-1c35-4d55-8a19-40eea95df033",
   "metadata": {},
   "outputs": [
    {
     "name": "stdout",
     "output_type": "stream",
     "text": [
      "[[0.0004209  0.         0.         ... 0.         0.         0.        ]\n",
      " [0.         0.00033274 0.         ... 0.         0.         0.        ]\n",
      " [0.         0.         0.0004209  ... 0.         0.         0.        ]\n",
      " ...\n",
      " [0.         0.         0.         ... 0.00088684 0.         0.        ]\n",
      " [0.         0.         0.         ... 0.         0.00084558 0.        ]\n",
      " [0.         0.         0.         ... 0.         0.         0.00079275]]\n"
     ]
    }
   ],
   "source": [
    "m = BilinearForm(fes)\n",
    "m += u*v*dx\n",
    "m.Assemble()\n",
    "M = csr_matrix(m.mat.CSR()).toarray()\n",
    "print(M)"
   ]
  },
  {
   "cell_type": "code",
   "execution_count": null,
   "id": "fe4acdea-f6f1-4b11-9ccd-a9601b252d8f",
   "metadata": {},
   "outputs": [],
   "source": []
  }
 ],
 "metadata": {
  "kernelspec": {
   "display_name": "Python 3 (ipykernel)",
   "language": "python",
   "name": "python3"
  },
  "language_info": {
   "codemirror_mode": {
    "name": "ipython",
    "version": 3
   },
   "file_extension": ".py",
   "mimetype": "text/x-python",
   "name": "python",
   "nbconvert_exporter": "python",
   "pygments_lexer": "ipython3",
   "version": "3.12.1"
  }
 },
 "nbformat": 4,
 "nbformat_minor": 5
}
